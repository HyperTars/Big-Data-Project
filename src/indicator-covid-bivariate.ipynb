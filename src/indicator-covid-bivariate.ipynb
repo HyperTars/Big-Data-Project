{
 "cells": [
  {
   "cell_type": "code",
   "execution_count": null,
   "metadata": {},
   "outputs": [],
   "source": [
    "import pandas as pd\n",
    "import os\n",
    "from matplotlib import pyplot as plt"
   ]
  },
  {
   "cell_type": "code",
   "execution_count": null,
   "metadata": {},
   "outputs": [],
   "source": [
    "# create folder for result\n",
    "if not os.path.exists(\"../result/indicator-covid-bivariate/\"):\n",
    "    os.makedirs(\"../result/indicator-covid-bivariate/\")"
   ]
  },
  {
   "cell_type": "code",
   "execution_count": null,
   "metadata": {},
   "outputs": [],
   "source": [
    "# get range of COVID-19 data & cumulative covid 19 cases\n",
    "\n",
    "covidDP = \"../clean_data/covid-19/time_series_covid19_confirmed_global.csv\"\n",
    "covidDF = pd.read_csv(covidDP)\n",
    "covidDF[\"Date\"] = pd.to_datetime(covidDF[\"Date\"], format = \"%Y-%m-%d\")\n",
    "date = covidDF[\"Date\"].tolist()\n",
    "\n",
    "total_covid = []\n",
    "covidDF[\"\"]"
   ]
  },
  {
   "cell_type": "code",
   "execution_count": null,
   "metadata": {},
   "outputs": [],
   "source": []
  }
 ],
 "metadata": {
  "kernelspec": {
   "display_name": "Python 3",
   "language": "python",
   "name": "python3"
  },
  "language_info": {
   "codemirror_mode": {
    "name": "ipython",
    "version": 3
   },
   "file_extension": ".py",
   "mimetype": "text/x-python",
   "name": "python",
   "nbconvert_exporter": "python",
   "pygments_lexer": "ipython3",
   "version": "3.7.7"
  }
 },
 "nbformat": 4,
 "nbformat_minor": 4
}
